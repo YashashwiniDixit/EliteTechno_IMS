{
  "nbformat": 4,
  "nbformat_minor": 0,
  "metadata": {
    "colab": {
      "name": "FinalIMP.ipynb",
      "provenance": [],
      "collapsed_sections": []
    },
    "kernelspec": {
      "name": "python3",
      "display_name": "Python 3"
    },
    "language_info": {
      "name": "python"
    }
  },
  "cells": [
    {
      "cell_type": "code",
      "metadata": {
        "colab": {
          "base_uri": "https://localhost:8080/"
        },
        "id": "XqWr1hFxh0Ml",
        "outputId": "a2c31263-3588-4a6c-9f47-2d3004ceaafd"
      },
      "source": [
        "import json \n",
        "from datetime import datetime\n",
        "\n",
        "\n",
        "def adminActivity(read): \n",
        "  covtJson = json.loads(read)\n",
        "  pId = str(input(\"Enter Product Id:\"))\n",
        "  dictKeys = list(covtJson)\n",
        "  retValIndex = dictKeys.count(pId)\n",
        "  if retValIndex == 0:\n",
        "    PCategory = str(input(\"Enter Product Category:\"))\n",
        "    pName = str(input(\"Enter Product Name:\"))\n",
        "    pPrice = int(input(\"Enter Product Price:\"))\n",
        "    pQuentity = int(input(\"Enter Product Quentity:\"))\n",
        "    pWeight = int(input(\"Enter Product Weight:\"))\n",
        "    updatedQuentity = pQuentity\n",
        "    covtJson[pId] = {'Category' : PCategory , 'Name' : pName, 'Price':pPrice, 'Quantity':updatedQuentity ,'Weight':pWeight}\n",
        "    print(\"Recored Successfully Added..\")\n",
        "  else:\n",
        "    pPrice = int(input(\"Enter Product Price:\"))\n",
        "    pQuentity = int(input(\"Enter Product Quentity:\"))\n",
        "    updatedQuentity = covtJson[pId]['Quantity'] + pQuentity\n",
        "    covtJson[pId]['Price'] = pPrice\n",
        "    covtJson[pId]['Quantity'] = updatedQuentity\n",
        "    print(\"Record Successfully Updated..\")\n",
        "  return covtJson\n",
        "\n",
        "def userActivity(read):\n",
        "  covtJson = json.loads(read)\n",
        "  p_id = str(input(\"Enter Product Id:\"))\n",
        "  p_Quantity = int(input(\"How Many Product You Want To Buy:\"))\n",
        "  dictUKeys = list(covtJson)\n",
        "  retTotalKeys = dictUKeys.count(p_id)\n",
        "  if (retTotalKeys == 0):\n",
        "    print(\"Sorry ! We Don't Have This Record ! Please Re-enter Your Id...\")\n",
        "    return \n",
        "  preQuentity = covtJson[p_id][\"Quantity\"]  \n",
        "  if (preQuentity < p_Quantity):\n",
        "    print(\"Sorry ! We Don't Have Enought Quantity !! Shop In Short Time.. ! Thank You || Visit Again\")\n",
        "  else:\n",
        "    prePrice = covtJson[p_id]['Price']\n",
        "    print(\"Category:\",covtJson[p_id]['Category'])\n",
        "    print(\"Product:\",covtJson[p_id]['Name'])\n",
        "    print(\"Price:\",prePrice)\n",
        "    print(\"Your Billing Amount:\" ,prePrice, \" * \" ,p_Quantity, \" : \" ,prePrice * p_Quantity)\n",
        "    finalCall = str(input(\"Do you want to buy? Y / N : \"))\n",
        "    if (finalCall == 'Y'):\n",
        "      covtJson[p_id][\"Quantity\"] = covtJson[p_id][\"Quantity\"] - p_Quantity\n",
        "      cDateTime = datetime.now()\n",
        "      sales[len(sales)+1] = {\"Category\" : covtJson[p_id]['Category'],\"Product_Name\" : covtJson[p_id]['Name'],\"Price\" : prePrice,\"Remaining Quantity\" : covtJson[p_id][\"Quantity\"] , \"Purchased Quantity\" : p_Quantity , \"Billing Amount\" : prePrice * p_Quantity ,\"Date\": cDateTime}\n",
        "      print(\"Successfully Purchased\")\n",
        "      dumpedSales = json.dumps(sales,default=str)\n",
        "      salesFile = open(\"sales.json\",\"a\")\n",
        "      salesFile.write(dumpedSales)\n",
        "      salesFile.close()\n",
        "    else:\n",
        "      print(\"Ohhh ! Thanks || Visit Again...\")\n",
        "  return covtJson   \n",
        "\n",
        "# Program Starts:\n",
        "jsonRead = open(\"initial.json\",\"r\")\n",
        "read = jsonRead.read()\n",
        "jsonRead.close()\n",
        "userRole = str(input(\"Who Are You ? Admin -> A | User -> U : \"))\n",
        "if (userRole == 'A'):\n",
        "  covtJson = adminActivity(read)\n",
        "elif (userRole == 'U'):\n",
        "  covtJson = userActivity(read)\n",
        "else:\n",
        "  print(\"Please ! Enter Approprite Option!!!\")\n",
        "\n",
        "\n",
        "dumpedJson = json.dumps(covtJson)\n",
        "jsonWriteFile = open(\"initial.json\",\"w\")\n",
        "jsonWriteFile.write(dumpedJson)\n",
        "jsonWriteFile.close()"
      ],
      "execution_count": 48,
      "outputs": [
        {
          "output_type": "stream",
          "name": "stdout",
          "text": [
            "Who Are You ? Admin -> A | User -> U : U\n",
            "Enter Product Id:100033\n",
            "How Many Product You Want To Buy:20\n",
            "Category: Chocolate\n",
            "Product: Kachha Mango\n",
            "Price: 5\n",
            "Your Billing Amount: 5  *  20  :  100\n",
            "Do you want to buy? Y / N : Y\n",
            "Successfully Purchased\n"
          ]
        }
      ]
    },
    {
      "cell_type": "code",
      "metadata": {
        "colab": {
          "base_uri": "https://localhost:8080/"
        },
        "id": "By8DRSJW0XEX",
        "outputId": "5dcfa16f-e887-4497-e531-ae7574eaad72"
      },
      "source": [
        "sales"
      ],
      "execution_count": 49,
      "outputs": [
        {
          "output_type": "execute_result",
          "data": {
            "text/plain": [
              "{1: {'Billing Amount': 50,\n",
              "  'Category': 'Chocolate',\n",
              "  'Date': datetime.datetime(2021, 9, 6, 11, 57, 53, 393787),\n",
              "  'Price': 5,\n",
              "  'Product_Name': 'Bounty',\n",
              "  'Purchased Quantity': 10,\n",
              "  'Remaining Quantity': 30},\n",
              " 2: {'Billing Amount': 100,\n",
              "  'Category': 'Chocolate',\n",
              "  'Date': datetime.datetime(2021, 9, 6, 11, 58, 51, 954972),\n",
              "  'Price': 5,\n",
              "  'Product_Name': 'Bounty',\n",
              "  'Purchased Quantity': 20,\n",
              "  'Remaining Quantity': 130},\n",
              " 3: {'Billing Amount': 25,\n",
              "  'Category': 'Chocolate',\n",
              "  'Date': datetime.datetime(2021, 9, 6, 12, 5, 44, 697750),\n",
              "  'Price': 5,\n",
              "  'Product_Name': 'Bounty',\n",
              "  'Purchased Quantity': 5,\n",
              "  'Remaining Quantity': 45},\n",
              " 4: {'Billing Amount': 15,\n",
              "  'Category': 'Chocolate',\n",
              "  'Date': datetime.datetime(2021, 9, 6, 12, 6, 33, 112868),\n",
              "  'Price': 5,\n",
              "  'Product_Name': 'Bounty',\n",
              "  'Purchased Quantity': 3,\n",
              "  'Remaining Quantity': 54},\n",
              " 5: {'Billing Amount': 100,\n",
              "  'Category': 'Chocolate',\n",
              "  'Date': datetime.datetime(2021, 9, 6, 12, 9, 44, 391893),\n",
              "  'Price': 5,\n",
              "  'Product_Name': 'Kachha Mango',\n",
              "  'Purchased Quantity': 20,\n",
              "  'Remaining Quantity': 180}}"
            ]
          },
          "metadata": {},
          "execution_count": 49
        }
      ]
    }
  ]
}